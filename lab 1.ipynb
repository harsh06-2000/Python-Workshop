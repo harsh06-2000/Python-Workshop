{
 "cells": [
  {
   "cell_type": "raw",
   "metadata": {},
   "source": []
  },
  {
   "cell_type": "code",
   "execution_count": 2,
   "metadata": {},
   "outputs": [
    {
     "name": "stdout",
     "output_type": "stream",
     "text": [
      "enter a number9\n",
      "NUMBER IS ODD\n"
     ]
    }
   ],
   "source": [
    "num=int(input(\"enter a number\"))\n",
    "rem=num%2\n",
    "if(rem==0):\n",
    "    print(\"NUMBER IS EVEN\")\n",
    "else:\n",
    "    print(\"NUMBER IS ODD\")\n",
    "    "
   ]
  },
  {
   "cell_type": "code",
   "execution_count": 4,
   "metadata": {
    "scrolled": true
   },
   "outputs": [
    {
     "name": "stdout",
     "output_type": "stream",
     "text": [
      "ENTER A NUMBER5600\n",
      "ITS A LEAP YEAR\n"
     ]
    }
   ],
   "source": [
    "year=int(input(\"ENTER A NUMBER\"))\n",
    "if((year%4==0),(year%400==0)):\n",
    "    print(\"ITS A LEAP YEAR\")\n",
    "else:\n",
    "    print(\"ITS NOT A LEAP YEAR\")"
   ]
  },
  {
   "cell_type": "code",
   "execution_count": 7,
   "metadata": {},
   "outputs": [
    {
     "name": "stdout",
     "output_type": "stream",
     "text": [
      "ENTER THE CHARACTER D\n",
      "ITS A CONSONANT\n"
     ]
    }
   ],
   "source": [
    "ch=input(\"ENTER THE CHARACTER \")\n",
    "if(ch=='a'or ch=='e'or ch=='i'or ch=='o'or ch=='u'or ch=='A'or ch=='E'or ch=='I'or ch=='O'or ch=='U'):\n",
    "    print(\"ITS A VOWEL\")\n",
    "else:\n",
    "    print(\"ITS A CONSONANT\")"
   ]
  },
  {
   "cell_type": "code",
   "execution_count": 11,
   "metadata": {},
   "outputs": [
    {
     "name": "stdout",
     "output_type": "stream",
     "text": [
      "ENTER THE FIRST NUMBER 56\n",
      "ENTER THE SECOND NUMBER 4\n",
      "#### SECOND NUMBER IS SMALLER ####\n"
     ]
    }
   ],
   "source": [
    "num1=int(input(\"ENTER THE FIRST NUMBER \"))\n",
    "num2=int(input(\"ENTER THE SECOND NUMBER \"))\n",
    "if(num1<num2):\n",
    "    print(\"#### FIRST NUMBER IS SMALLER ####\")\n",
    "else:\n",
    "    print(\"#### SECOND NUMBER IS SMALLER ####\")\n",
    "    \n",
    "    "
   ]
  },
  {
   "cell_type": "code",
   "execution_count": 15,
   "metadata": {},
   "outputs": [
    {
     "name": "stdout",
     "output_type": "stream",
     "text": [
      "ENTER THE NUMBER 5\n",
      "THE FACTORIAL OF A NUMBER IS  120\n"
     ]
    }
   ],
   "source": [
    "n=int(input(\"ENTER THE NUMBER \"))\n",
    "fact=1\n",
    "if(n<0):\n",
    "    print(\"FACTORIAL OF A NEGATIVE NUMBER IS NOT POSSIBLE\")\n",
    "else:\n",
    "    for i in range(1,n+1):\n",
    "        fact=fact*i\n",
    "        \n",
    "print(\"THE FACTORIAL OF A NUMBER IS \",fact)\n",
    "    "
   ]
  },
  {
   "cell_type": "code",
   "execution_count": 19,
   "metadata": {},
   "outputs": [
    {
     "name": "stdout",
     "output_type": "stream",
     "text": [
      "     *     \n",
      "   * * *   \n",
      " * * * * * \n",
      "* * * * * *\n"
     ]
    }
   ],
   "source": [
    "print(\"     *     \")\n",
    "print(\"   * * *   \")\n",
    "print(\" * * * * * \")\n",
    "print(\"* * * * * *\")"
   ]
  },
  {
   "cell_type": "code",
   "execution_count": null,
   "metadata": {},
   "outputs": [],
   "source": [
    " "
   ]
  }
 ],
 "metadata": {
  "kernelspec": {
   "display_name": "Python 3",
   "language": "python",
   "name": "python3"
  },
  "language_info": {
   "codemirror_mode": {
    "name": "ipython",
    "version": 3
   },
   "file_extension": ".py",
   "mimetype": "text/x-python",
   "name": "python",
   "nbconvert_exporter": "python",
   "pygments_lexer": "ipython3",
   "version": "3.7.1"
  }
 },
 "nbformat": 4,
 "nbformat_minor": 2
}
